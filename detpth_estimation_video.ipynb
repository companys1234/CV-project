{
  "nbformat": 4,
  "nbformat_minor": 0,
  "metadata": {
    "colab": {
      "provenance": []
    },
    "kernelspec": {
      "name": "python3",
      "display_name": "Python 3"
    },
    "language_info": {
      "name": "python"
    }
  },
  "cells": [
    {
      "cell_type": "code",
      "execution_count": 1,
      "metadata": {
        "colab": {
          "base_uri": "https://localhost:8080/"
        },
        "id": "0sQTCeQQtYc0",
        "outputId": "6fb0a32d-4638-45a5-f807-9f29aa82ff40"
      },
      "outputs": [
        {
          "output_type": "stream",
          "name": "stderr",
          "text": [
            "/usr/local/lib/python3.11/dist-packages/torch/hub.py:330: UserWarning: You are about to download and run code from an untrusted repository. In a future release, this won't be allowed. To add the repository to your trusted list, change the command to {calling_fn}(..., trust_repo=False) and a command prompt will appear asking for an explicit confirmation of trust, or load(..., trust_repo=True), which will assume that the prompt is to be answered with 'yes'. You can also use load(..., trust_repo='check') which will only prompt for confirmation if the repo is not already trusted. This will eventually be the default behaviour\n",
            "  warnings.warn(\n",
            "Downloading: \"https://github.com/intel-isl/MiDaS/zipball/master\" to /root/.cache/torch/hub/master.zip\n",
            "/usr/local/lib/python3.11/dist-packages/timm/models/layers/__init__.py:48: FutureWarning: Importing from timm.models.layers is deprecated, please import via timm.layers\n",
            "  warnings.warn(f\"Importing from {__name__} is deprecated, please import via timm.layers\", FutureWarning)\n",
            "Downloading: \"https://github.com/isl-org/MiDaS/releases/download/v3/dpt_large_384.pt\" to /root/.cache/torch/hub/checkpoints/dpt_large_384.pt\n",
            "100%|██████████| 1.28G/1.28G [00:14<00:00, 94.0MB/s]\n",
            "Обработка видео:  99%|█████████▊| 67/68 [18:30<00:16, 16.57s/it]"
          ]
        },
        {
          "output_type": "stream",
          "name": "stdout",
          "text": [
            "Обработка завершена. Результат сохранен в output_depth_video.mp4\n"
          ]
        },
        {
          "output_type": "stream",
          "name": "stderr",
          "text": [
            "\n"
          ]
        }
      ],
      "source": [
        "import cv2\n",
        "import numpy as np\n",
        "import torch\n",
        "import torchvision.transforms as transforms\n",
        "from PIL import Image\n",
        "from tqdm import tqdm\n",
        "\n",
        "# Загрузка предобученной модели MiDaS\n",
        "model_type = \"DPT_Large\"  # Можно использовать \"DPT_Hybrid\" или \"MiDaS_small\"\n",
        "model = torch.hub.load(\"intel-isl/MiDaS\", model_type)\n",
        "model.eval()\n",
        "\n",
        "# Определение преобразований для входного изображения\n",
        "transform = transforms.Compose([\n",
        "    transforms.Resize(384),  # Измените размер в зависимости от модели\n",
        "    transforms.ToTensor(),\n",
        "    transforms.Normalize(mean=[0.485, 0.456, 0.406], std=[0.229, 0.224, 0.225]),\n",
        "])\n",
        "\n",
        "def predict_depth(image):\n",
        "    \"\"\"Предсказание карты глубины для одного кадра\"\"\"\n",
        "    # Преобразование изображения\n",
        "    image_pil = Image.fromarray(cv2.cvtColor(image, cv2.COLOR_BGR2RGB))\n",
        "    input_tensor = transform(image_pil).unsqueeze(0)\n",
        "\n",
        "    # Прогнозирование глубины\n",
        "    with torch.no_grad():\n",
        "        depth_map = model(input_tensor)\n",
        "\n",
        "    # Нормализация карты глубины\n",
        "    depth_map = depth_map.squeeze().cpu().numpy()\n",
        "    depth_map = (depth_map - depth_map.min()) / (depth_map.max() - depth_map.min())\n",
        "\n",
        "    return depth_map\n",
        "\n",
        "def process_video(input_video_path, output_video_path):\n",
        "    \"\"\"Обработка видео и сохранение результата\"\"\"\n",
        "    # Открытие видеофайла\n",
        "    cap = cv2.VideoCapture(input_video_path)\n",
        "    if not cap.isOpened():\n",
        "        print(\"Ошибка открытия видеофайла\")\n",
        "        return\n",
        "\n",
        "    # Получение параметров видео\n",
        "    fps = cap.get(cv2.CAP_PROP_FPS)\n",
        "    width = int(cap.get(cv2.CAP_PROP_FRAME_WIDTH))\n",
        "    height = int(cap.get(cv2.CAP_PROP_FRAME_HEIGHT))\n",
        "    total_frames = int(cap.get(cv2.CAP_PROP_FRAME_COUNT))\n",
        "\n",
        "    # Создание VideoWriter для сохранения результата\n",
        "    fourcc = cv2.VideoWriter_fourcc(*'mp4v')\n",
        "    out = cv2.VideoWriter(output_video_path, fourcc, fps, (width * 2, height))\n",
        "\n",
        "    # Обработка кадров с прогресс-баром\n",
        "    progress_bar = tqdm(total=total_frames, desc=\"Обработка видео\")\n",
        "\n",
        "    while cap.isOpened():\n",
        "        ret, frame = cap.read()\n",
        "        if not ret:\n",
        "            break\n",
        "\n",
        "        # Предсказание карты глубины\n",
        "        depth_map = predict_depth(frame)\n",
        "\n",
        "        # Визуализация карты глубины\n",
        "        depth_vis = (depth_map * 255).astype(np.uint8)\n",
        "        depth_vis = cv2.applyColorMap(depth_vis, cv2.COLORMAP_JET)\n",
        "        depth_vis = cv2.resize(depth_vis, (width, height))\n",
        "\n",
        "        # Объединение оригинального кадра и карты глубины\n",
        "        combined_frame = np.hstack((frame, depth_vis))\n",
        "\n",
        "        # Запись кадра в выходной файл\n",
        "        out.write(combined_frame)\n",
        "\n",
        "        progress_bar.update(1)\n",
        "\n",
        "    # Освобождение ресурсов\n",
        "    cap.release()\n",
        "    out.release()\n",
        "    progress_bar.close()\n",
        "    cv2.destroyAllWindows()\n",
        "\n",
        "    print(f\"Обработка завершена. Результат сохранен в {output_video_path}\")\n",
        "\n",
        "if __name__ == \"__main__\":\n",
        "    input_video_path = \"/content/1112645_Approach_Winter-clothes_3840x2160 (online-video-cutter.com).mp4\"  # Укажите путь к исходному видео\n",
        "    output_video_path = \"output_depth_video.mp4\"  # Путь для сохранения результата\n",
        "\n",
        "    process_video(input_video_path, output_video_path)"
      ]
    }
  ]
}