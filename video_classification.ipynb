{
  "nbformat": 4,
  "nbformat_minor": 0,
  "metadata": {
    "colab": {
      "provenance": []
    },
    "kernelspec": {
      "name": "python3",
      "display_name": "Python 3"
    },
    "language_info": {
      "name": "python"
    }
  },
  "cells": [
    {
      "cell_type": "code",
      "source": [
        "import torch\n",
        "import torch.nn as nn\n",
        "import torch.optim as optim\n",
        "from torchvision import datasets, transforms\n",
        "from torch.utils.data import DataLoader\n",
        "import torch.nn.functional as F\n",
        "\n",
        "# Установка устройства\n",
        "device = torch.device(\"cuda\" if torch.cuda.is_available() else \"cpu\")\n",
        "\n",
        "# Параметры\n",
        "batch_size = 32\n",
        "num_classes = 10  # Для Moving MNIST 10 классов (0-9)\n",
        "\n",
        "# Загрузка датасета Moving MNIST\n",
        "class MovingMNIST(datasets.VisionDataset):\n",
        "    def __init__(self, root, train=True, transform=None):\n",
        "        super(MovingMNIST, self).__init__(root, transform=transform)\n",
        "        mnist = datasets.MNIST(root=root, train=train, download=True)\n",
        "        self.data = mnist.data.unsqueeze(1).float() / 255.0  # Добавляем канал (1, H, W)\n",
        "        self.labels = mnist.targets\n",
        "\n",
        "    def __getitem__(self, index):\n",
        "        image = self.data[index]\n",
        "        label = self.labels[index]\n",
        "\n",
        "        # Создаем два канала путем дублирования изображения\n",
        "        two_channel_image = torch.cat([image, image], dim=0)  # (2, H, W)\n",
        "\n",
        "        if self.transform:\n",
        "            two_channel_image = self.transform(two_channel_image)\n",
        "\n",
        "        return two_channel_image, label\n",
        "\n",
        "    def __len__(self):\n",
        "        return len(self.data)\n",
        "\n",
        "# Трансформации\n",
        "transform = transforms.Compose([\n",
        "    transforms.Resize((28, 28)),\n",
        "])\n",
        "\n",
        "# Загрузка данных\n",
        "train_dataset = MovingMNIST(root='./data', train=True, transform=transform)\n",
        "train_loader = DataLoader(train_dataset, batch_size=batch_size, shuffle=True)\n",
        "\n",
        "# Определение модели\n",
        "class VideoClassifier(nn.Module):\n",
        "    def __init__(self):\n",
        "        super(VideoClassifier, self).__init__()\n",
        "        self.conv1 = nn.Conv2d(2, 16, kernel_size=3, stride=1, padding=1)\n",
        "        self.conv2 = nn.Conv2d(16, 32, kernel_size=3, stride=1, padding=1)\n",
        "        self.pool = nn.MaxPool2d(kernel_size=2, stride=2)\n",
        "\n",
        "        # Вычислим размер выхода после сверток\n",
        "        self.fc1_input_size = 32 * 7 * 7  # После двух пулингов (28 -> 14 -> 7)\n",
        "        self.fc1 = nn.Linear(self.fc1_input_size, 128)\n",
        "        self.fc2 = nn.Linear(128, num_classes)\n",
        "\n",
        "    def forward(self, x):\n",
        "        x = self.pool(F.relu(self.conv1(x)))  # (batch_size, 16, 14, 14)\n",
        "        x = self.pool(F.relu(self.conv2(x)))  # (batch_size, 32, 7, 7)\n",
        "        x = x.view(x.size(0), -1)  # Flatten: (batch_size, 32 * 7 * 7)\n",
        "        x = F.relu(self.fc1(x))\n",
        "        x = self.fc2(x)\n",
        "        return x\n",
        "\n",
        "# Инициализация модели, функции потерь и оптимизатора\n",
        "model = VideoClassifier().to(device)\n",
        "criterion = nn.CrossEntropyLoss()\n",
        "optimizer = optim.Adam(model.parameters(), lr=0.001)\n",
        "\n",
        "# Обучение модели\n",
        "num_epochs = 5\n",
        "\n",
        "for epoch in range(num_epochs):\n",
        "    model.train()\n",
        "    running_loss = 0.0\n",
        "\n",
        "    for inputs, labels in train_loader:\n",
        "        inputs, labels = inputs.to(device), labels.to(device)\n",
        "\n",
        "        optimizer.zero_grad()\n",
        "        outputs = model(inputs)\n",
        "        loss = criterion(outputs, labels)\n",
        "        loss.backward()\n",
        "        optimizer.step()\n",
        "\n",
        "        running_loss += loss.item()\n",
        "\n",
        "    print(f'Epoch [{epoch+1}/{num_epochs}], Loss: {running_loss/len(train_loader):.4f}')\n",
        "\n",
        "print('Обучение завершено!')"
      ],
      "metadata": {
        "colab": {
          "base_uri": "https://localhost:8080/"
        },
        "id": "lJ1V01VD-xQT",
        "outputId": "d13a9c37-c1e6-4a8a-9024-b37ee7d4f8a1"
      },
      "execution_count": 9,
      "outputs": [
        {
          "output_type": "stream",
          "name": "stdout",
          "text": [
            "Epoch [1/5], Loss: 0.1582\n",
            "Epoch [2/5], Loss: 0.0520\n",
            "Epoch [3/5], Loss: 0.0354\n",
            "Epoch [4/5], Loss: 0.0257\n",
            "Epoch [5/5], Loss: 0.0201\n",
            "Обучение завершено!\n"
          ]
        }
      ]
    },
    {
      "cell_type": "code",
      "source": [
        "import matplotlib.pyplot as plt\n",
        "\n",
        "def visualize_input_data(inputs, labels, num_samples=5):\n",
        "    \"\"\"\n",
        "    Визуализация входных данных.\n",
        "\n",
        "    Args:\n",
        "        inputs (torch.Tensor): Тензор входных данных размером (batch_size, channels, height, width).\n",
        "        labels (torch.Tensor): Тензор меток размером (batch_size,).\n",
        "        num_samples (int): Количество изображений для отображения.\n",
        "    \"\"\"\n",
        "    # Переводим тензоры на CPU и преобразуем в numpy\n",
        "    inputs = inputs.cpu().numpy()\n",
        "    labels = labels.cpu().numpy()\n",
        "\n",
        "    # Определяем количество каналов\n",
        "    num_channels = inputs.shape[1]\n",
        "\n",
        "    # Создаем подграфики для отображения\n",
        "    fig, axes = plt.subplots(num_samples, num_channels, figsize=(10, 2 * num_samples))\n",
        "    if num_samples == 1:\n",
        "        axes = np.expand_dims(axes, axis=0)  # Для корректной работы с одним образцом\n",
        "\n",
        "    for i in range(num_samples):\n",
        "        for j in range(num_channels):\n",
        "            ax = axes[i, j]\n",
        "            ax.imshow(inputs[i, j], cmap='gray')  # Отображаем каждый канал в градациях серого\n",
        "            ax.axis('off')\n",
        "            if j == 0:\n",
        "                ax.set_title(f\"Label: {labels[i]}\")  # Добавляем метку к первому каналу\n",
        "\n",
        "    plt.tight_layout()\n",
        "    plt.show()"
      ],
      "metadata": {
        "id": "CZ3YHscVAvS6"
      },
      "execution_count": 24,
      "outputs": []
    },
    {
      "cell_type": "code",
      "source": [
        "# Внутри цикла обучения\n",
        "for inputs, labels in train_loader:\n",
        "    inputs, labels = inputs.to(device), labels.to(device)\n",
        "\n",
        "    # Визуализация первых нескольких батчей\n",
        "    visualize_input_data(inputs[:5], labels[:5])  # Показываем 5 изображений\n",
        "    break  # Прерываем цикл после первой визуализации"
      ],
      "metadata": {
        "colab": {
          "base_uri": "https://localhost:8080/",
          "height": 1000
        },
        "id": "DlENvpD8B1yL",
        "outputId": "7ca5485e-dab4-4a47-8886-454689a87e54"
      },
      "execution_count": 25,
      "outputs": [
        {
          "output_type": "display_data",
          "data": {
            "text/plain": [
              "<Figure size 1000x1000 with 10 Axes>"
            ],
            "image/png": "[encoded data removed]"
          },
          "metadata": {}
        }
      ]
    }
  ]
}