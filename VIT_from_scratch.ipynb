{
  "nbformat": 4,
  "nbformat_minor": 0,
  "metadata": {
    "colab": {
      "provenance": []
    },
    "kernelspec": {
      "name": "python3",
      "display_name": "Python 3"
    },
    "language_info": {
      "name": "python"
    }
  },
  "cells": [
    {
      "cell_type": "markdown",
      "source": [
        "![Vision-Transformer-Architecture_.webp](data:image/webp;base64,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)"
      ],
      "metadata": {
        "id": "QrMbf5876Wcw"
      }
    },
    {
      "cell_type": "code",
      "source": [
        "import torch\n",
        "import torch.nn as nn\n",
        "import torchvision\n",
        "import torchvision.transforms as transforms\n",
        "import torch.nn.functional as F\n",
        "import torch.optim as optim"
      ],
      "metadata": {
        "id": "njnUJula6DMr"
      },
      "execution_count": 1,
      "outputs": []
    },
    {
      "cell_type": "code",
      "source": [
        "img_channels = 3\n",
        "img_size = 64\n",
        "patch_size = 64\n",
        "embed_dim = 64\n",
        "batch_size = 16\n",
        "num_patches = 1\n",
        "dropout = 0.0"
      ],
      "metadata": {
        "id": "GyEHbXTc7zlz"
      },
      "execution_count": 19,
      "outputs": []
    },
    {
      "cell_type": "code",
      "execution_count": 111,
      "metadata": {
        "colab": {
          "base_uri": "https://localhost:8080/"
        },
        "id": "C_3Dr1zp4JZh",
        "outputId": "6ca7471c-811a-4ee0-eea8-52c0eac26664"
      },
      "outputs": [
        {
          "output_type": "stream",
          "name": "stdout",
          "text": [
            "torch.Size([16, 3, 64, 64])\n"
          ]
        }
      ],
      "source": [
        "def split_into_blocks(image, n_h, n_w):\n",
        "    \"\"\"\n",
        "    Разделяет изображение на n_h × n_w блоков.\n",
        "\n",
        "    Args:\n",
        "        image (torch.Tensor): Тензор (C, H, W).\n",
        "        n_h (int): Количество частей по высоте.\n",
        "        n_w (int): Количество частей по ширине.\n",
        "\n",
        "    Returns:\n",
        "        torch.Tensor: Тензор (n_h * n_w, C, H//n_h, W//n_w).\n",
        "    \"\"\"\n",
        "    c, h, w = image.shape\n",
        "    block_h = h // n_h\n",
        "    block_w = w // n_w\n",
        "\n",
        "    # Разделение на блоки с помощью unfold\n",
        "    blocks = image.unfold(1, block_h, block_h).unfold(2, block_w, block_w)\n",
        "    blocks = blocks.contiguous().view(-1, c, block_h, block_w)\n",
        "\n",
        "    return blocks\n",
        "\n",
        "# Пример:\n",
        "image = torch.randn(3, 256, 256)  # (C, H, W)\n",
        "blocks = split_into_blocks(image, 4, 4)  # 4x4=16 блоков\n",
        "print(blocks.shape)  # (16, 3, 64, 64)"
      ]
    },
    {
      "cell_type": "code",
      "source": [
        "def patches():\n",
        "  patches = blocks.contiguous().view(batch_size, img_channels, -1, patch_size * patch_size)\n",
        "  patches = patches.permute(0, 2, 1, 3).contiguous().view(batch_size, -1, img_channels * patch_size * patch_size)\n",
        "  # print(\"patches shape after flatten:\", patches.shape)\n",
        "  return patches"
      ],
      "metadata": {
        "id": "HxgK48757BGw"
      },
      "execution_count": 110,
      "outputs": []
    },
    {
      "cell_type": "code",
      "source": [
        "def lin_projection(img_channels,patch_size,embed_dim):\n",
        "  projection = nn.Linear(img_channels * patch_size * patch_size, embed_dim)\n",
        "  embedded_patches = projection(patches)\n",
        "  #print(\"embedded_patches shape:\", embedded_patches.shape)\n",
        "  return embedded_patches"
      ],
      "metadata": {
        "id": "8fn_OBCD7fz6"
      },
      "execution_count": 109,
      "outputs": []
    },
    {
      "cell_type": "code",
      "source": [
        "def cl_tok(embedded_patches):\n",
        "  cls_token = nn.Parameter(torch.randn(1, 1, embed_dim))\n",
        "  print(cls_token.shape)\n",
        "  cls_tokens = cls_token.expand(batch_size, -1, -1)\n",
        "  tokens = torch.cat([cls_tokens, embedded_patches], dim=1)\n",
        "  print(tokens.shape)\n",
        "  return tokens"
      ],
      "metadata": {
        "id": "sJwJZAP986Rb"
      },
      "execution_count": 112,
      "outputs": []
    },
    {
      "cell_type": "code",
      "source": [
        "def posit():\n",
        "  pos_embedding = nn.Parameter(torch.randn(1, num_patches + 1, embed_dim))  # (1, N+1, D)\n",
        "\n",
        "  # 6. Добавляем позиционные эмбеддинги\n",
        "  tokens = tokens + pos_embedding  # (B, N+1, D)\n",
        "  #print(tokens.shape)\n",
        "  return tokens"
      ],
      "metadata": {
        "id": "jjezFXln9ZYI"
      },
      "execution_count": 113,
      "outputs": []
    },
    {
      "cell_type": "code",
      "source": [
        "import torch\n",
        "import torch.nn as nn\n",
        "\n",
        "class PatchEmbeddingWithCLS(nn.Module):\n",
        "    \"\"\"\n",
        "    Изображение -> последовательность токенов (CLS + патчи) с позиционными эмбеддингами.\n",
        "\n",
        "    Вход:  x (B, C, H, W)\n",
        "    Выход: tokens (B, N+1, D), где N = (H/P)*(W/P)\n",
        "    \"\"\"\n",
        "    def __init__(self, img_size, patch_size, in_chans, embed_dim):\n",
        "        super().__init__()\n",
        "        assert img_size % patch_size == 0, \"img_size должно делиться на patch_size\"\n",
        "        self.img_size = img_size\n",
        "        self.patch_size = patch_size\n",
        "        self.in_chans = in_chans\n",
        "        self.embed_dim = embed_dim\n",
        "\n",
        "        # Кол-во патчей\n",
        "        self.num_patches_h = img_size // patch_size\n",
        "        self.num_patches_w = img_size // patch_size\n",
        "        self.num_patches = self.num_patches_h * self.num_patches_w\n",
        "        patch_dim = in_chans * patch_size * patch_size\n",
        "\n",
        "        # Линейная проекция патчей\n",
        "        self.proj = nn.Linear(patch_dim, embed_dim)\n",
        "\n",
        "        # CLS-токен (обучаемый)\n",
        "        self.cls_token = nn.Parameter(torch.zeros(1, 1, embed_dim))\n",
        "\n",
        "        # Позиционные эмбеддинги (обучаемые) для CLS + всех патчей\n",
        "        self.pos_embed = nn.Parameter(torch.zeros(1, self.num_patches + 1, embed_dim))\n",
        "\n",
        "        # Инициализация\n",
        "        nn.init.trunc_normal_(self.cls_token, std=0.02)\n",
        "        nn.init.trunc_normal_(self.pos_embed, std=0.02)\n",
        "        nn.init.xavier_uniform_(self.proj.weight)\n",
        "        if self.proj.bias is not None:\n",
        "            nn.init.zeros_(self.proj.bias)\n",
        "\n",
        "    def _img_to_patches(self, x):\n",
        "        \"\"\"\n",
        "        Превращает (B, C, H, W) в (B, N, patch_dim), где patch_dim = C*P*P.\n",
        "        \"\"\"\n",
        "        B, C, H, W = x.shape\n",
        "        P = self.patch_size\n",
        "        # (B, C, Nh, Nw, P, P)\n",
        "        patches = x.unfold(2, P, P).unfold(3, P, P)\n",
        "        # -> (B, C, Nh*Nw, P*P)\n",
        "        patches = patches.contiguous().view(B, C, -1, P * P)\n",
        "        # -> (B, Nh*Nw, C, P*P)\n",
        "        patches = patches.permute(0, 2, 1, 3).contiguous()\n",
        "        # -> (B, N, C*P*P)\n",
        "        patches = patches.view(B, -1, C * P * P)\n",
        "        return patches  # (B, N, patch_dim)\n",
        "\n",
        "    def forward(self, x):\n",
        "        \"\"\"\n",
        "        x: (B, C, H, W)\n",
        "        return: (B, N+1, D)\n",
        "        \"\"\"\n",
        "      #  B, C, H, W = x.shape\n",
        "      #  assert H == self.img_size and W == self.img_size, \"Размер входа должен совпадать с img_size при инициализации.\"\n",
        "\n",
        "        # 1) Патчи -> (B, N, patch_dim)\n",
        "      #  patches = self._img_to_patches(x)\n",
        "\n",
        "        # 2) Линейная проекция -> (B, N, D)\n",
        "        patch_embeddings = self.proj(x)\n",
        "\n",
        "        # 3) CLS токен (распространяем на батч)\n",
        "        cls_tokens = self.cls_token.expand(16, -1, -1)  # (B, 1, D)\n",
        "\n",
        "        # 4) Конкатенация CLS + патчи\n",
        "        tokens = torch.cat([cls_tokens, patch_embeddings], dim=1)  # (B, N+1, D)\n",
        "\n",
        "        # 5) Добавляем позиционные эмбеддинги\n",
        "        tokens = tokens + self.pos_embed  # broadcast (1, N+1, D) -> (B, N+1, D)\n",
        "\n",
        "        return tokens\n"
      ],
      "metadata": {
        "id": "puEV4OY32Hry"
      },
      "execution_count": 114,
      "outputs": []
    },
    {
      "cell_type": "markdown",
      "source": [
        "transformer encoder"
      ],
      "metadata": {
        "id": "XKUrdcJu-KqY"
      }
    },
    {
      "cell_type": "code",
      "source": [
        "class Feed_Forward(nn.Module):\n",
        "    def __init__(self):\n",
        "      super().__init__()\n",
        "      self.net = nn.Sequential(\n",
        "              nn.Linear(embed_dim, 4 * embed_dim),\n",
        "              nn.ReLU(),\n",
        "              nn.Linear(4 * embed_dim, embed_dim),\n",
        "              nn.Dropout(dropout),\n",
        "              )\n",
        "    def forward(self,x):\n",
        "      return self.net(x)\n",
        "\n",
        "\n",
        "class MHA(nn.Module):\n",
        "        def __init__(self):\n",
        "            super().__init__()\n",
        "            d_model=64\n",
        "            num_heads=4\n",
        "            self.d_model = d_model\n",
        "            self.num_heads = num_heads\n",
        "            self.d_k = d_model // num_heads\n",
        "\n",
        "            self.W_Q = nn.Linear(d_model, d_model)\n",
        "            self.W_K = nn.Linear(d_model, d_model)\n",
        "            self.W_V = nn.Linear(d_model, d_model)\n",
        "            self.W_A = nn.Linear(d_model, d_model)\n",
        "        def forward(self,Q,K,V):\n",
        "            Q = self.W_Q(Q).view(batch_size, -1, self.num_heads, self.d_k).transpose(1, 2)\n",
        "            K = self.W_K(K).view(batch_size, -1, self.num_heads, self.d_k).transpose(1, 2)\n",
        "            V = self.W_V(V).view(batch_size, -1, self.num_heads, self.d_k).transpose(1, 2)\n",
        "\n",
        "            scores = torch.matmul(Q, K.transpose(-2, -1)) / torch.sqrt(torch.tensor(self.d_k, dtype=torch.float32))\n",
        "            weights = F.softmax(scores, dim=-1)\n",
        "            output = torch.matmul(weights, V)\n",
        "\n",
        "            output = output.transpose(1, 2).contiguous().view(batch_size, -1, self.d_model)\n",
        "            return self.W_A(output)\n",
        "\n",
        "\n",
        "class trans_encoder(nn.Module):\n",
        "  def __init__(self):\n",
        "    super().__init__()\n",
        "    self.norm = nn.LayerNorm(embed_dim)\n",
        "    self.mha = MHA()\n",
        "    self.feed_forward = Feed_Forward()\n",
        "  def forward(self,x):\n",
        "    x1 = self.norm(x)\n",
        "    x2 = self.mha(x1,x1,x1)\n",
        "    x3 = x2 + x\n",
        "    x4 = self.norm(x3)\n",
        "    x5 = self.feed_forward(x4)\n",
        "    x6 = x5 + x3\n",
        "    return x6"
      ],
      "metadata": {
        "id": "Q1ZkZWIQ-M3e"
      },
      "execution_count": 115,
      "outputs": []
    },
    {
      "cell_type": "markdown",
      "source": [
        "all"
      ],
      "metadata": {
        "id": "v6B7FIa1nO_j"
      }
    },
    {
      "cell_type": "code",
      "source": [
        "\n",
        "transform = transforms.Compose([\n",
        "    transforms.ToTensor(),\n",
        "    transforms.Normalize((0.5, 0.5, 0.5), (0.5, 0.5, 0.5)),\n",
        "])\n",
        "trainset = torchvision.datasets.CIFAR10(root='./data', train=True, download=True, transform=transform)\n",
        "trainloader = torch.utils.data.DataLoader(trainset, batch_size=16, shuffle=True, num_workers=2)"
      ],
      "metadata": {
        "id": "P1Ut5oMmnQAN"
      },
      "execution_count": 116,
      "outputs": []
    },
    {
      "cell_type": "code",
      "source": [
        "\"\"\"class vision(nn.Module):\n",
        "  def __init__(self):\n",
        "    super().__init__()\n",
        "    self.ssplit = split_into_blocks(4,4)\n",
        "    self.patch = patches()\n",
        "    self.proj = lin_projection()\n",
        "    self.cls = cl_tok()\n",
        "    self.pos = posit()\n",
        "  def forward(self,x):\n",
        "    x = self.ssplit(x,4,4)\n",
        "    x2 = self.patch()\n",
        "    x3 = self.proj()\n",
        "    x4 = self.cls(x3)\n",
        "    x5 = self.pos()\n",
        "    return x5\"\"\""
      ],
      "metadata": {
        "id": "h_SG5pjzoIwF"
      },
      "execution_count": null,
      "outputs": []
    },
    {
      "cell_type": "code",
      "source": [
        "class VIT(nn.Module):\n",
        "  def __init__(self):\n",
        "    super().__init__()\n",
        "    self.trans = trans_encoder()\n",
        "    self.pewc = PatchEmbeddingWithCLS(64,64,3,64)\n",
        "    self.lin = nn.Linear(64,10)\n",
        "  def forward(self,x):\n",
        "    x = x[0]\n",
        "    x1 = split_into_blocks(x,4,4)\n",
        "    x2 = patches()\n",
        "    x3 = self.pewc(x2)\n",
        "    x4 = self.trans(x3)\n",
        "    x5 = self.lin(x4)\n",
        "    return x5"
      ],
      "metadata": {
        "id": "CF0JMZ-snZTb"
      },
      "execution_count": 117,
      "outputs": []
    },
    {
      "cell_type": "code",
      "source": [
        "\n",
        "criterion = nn.CrossEntropyLoss()\n",
        "model = VIT()\n",
        "optimizer = optim.SGD(model.parameters(), lr=0.001, momentum=0.9)\n",
        "device = 'cpu'"
      ],
      "metadata": {
        "id": "L22W9H9GnYoy"
      },
      "execution_count": 118,
      "outputs": []
    },
    {
      "cell_type": "code",
      "source": [
        "\n",
        "\n",
        "def train_model(model, criterion, optimizer, num_epochs=10):\n",
        "    for epoch in range(num_epochs):\n",
        "        running_loss = 0.0\n",
        "        for inputs, labels in trainloader:\n",
        "            inputs, labels = inputs.to(device), labels.to(device)\n",
        "            optimizer.zero_grad()\n",
        "            outputs = model(inputs)\n",
        "            logits = outputs[:, 0, :]\n",
        "            loss = criterion(logits, labels)\n",
        "            loss.backward()\n",
        "            optimizer.step()\n",
        "\n",
        "            running_loss += loss.item()\n",
        "\n",
        "        print(f'Epoch [{epoch + 1}/{num_epochs}], Loss: {running_loss / len(trainloader):.4f}')\n",
        "\n",
        "    print('Finished Training')\n",
        "\n",
        "train_model(model, criterion, optimizer, num_epochs=3)"
      ],
      "metadata": {
        "colab": {
          "base_uri": "https://localhost:8080/"
        },
        "id": "Flst_b8YsS3_",
        "outputId": "b6d8924f-1838-49e7-8a43-475551aaea31"
      },
      "execution_count": 119,
      "outputs": [
        {
          "output_type": "stream",
          "name": "stdout",
          "text": [
            "Epoch [1/3], Loss: 2.3081\n",
            "Epoch [2/3], Loss: 2.3049\n",
            "Epoch [3/3], Loss: 2.3045\n",
            "Finished Training\n"
          ]
        }
      ]
    },
    {
      "cell_type": "code",
      "source": [
        "\n",
        "\n",
        "testset = torchvision.datasets.CIFAR100(root='./data', train=False, download=True, transform=transform)\n",
        "testloader = torch.utils.data.DataLoader(testset, batch_size=16, shuffle=False, num_workers=2)"
      ],
      "metadata": {
        "id": "MXDjU0Q_ip11"
      },
      "execution_count": 123,
      "outputs": []
    },
    {
      "cell_type": "code",
      "source": [
        "classes = trainset.classes\n",
        "\n",
        "def evaluate_model(model):\n",
        "    model.eval()  # Устанавливаем модель в режим оценки\n",
        "    correct = 0\n",
        "    total = 0\n",
        "\n",
        "    with torch.no_grad():\n",
        "        for inputs, labels in testloader:\n",
        "            inputs, labels = inputs.to(device), labels.to(device)\n",
        "            outputs = model(inputs)\n",
        "            logits = outputs[:, 0, :]\n",
        "            _, predicted = torch.max(logits.data, 1)\n",
        "            total += labels.size(0)\n",
        "            correct += (predicted == labels).sum().item()\n",
        "\n",
        "    print(f'Accuracy on the test set: {100 * correct / total:.2f}%')\n",
        "\n",
        "evaluate_model(model)"
      ],
      "metadata": {
        "colab": {
          "base_uri": "https://localhost:8080/"
        },
        "id": "hMqaAhbejEsd",
        "outputId": "05bce088-3cba-426a-bc76-ddf01af11423"
      },
      "execution_count": 124,
      "outputs": [
        {
          "output_type": "stream",
          "name": "stdout",
          "text": [
            "Accuracy on the test set: 1.07%\n"
          ]
        }
      ]
    }
  ]
}